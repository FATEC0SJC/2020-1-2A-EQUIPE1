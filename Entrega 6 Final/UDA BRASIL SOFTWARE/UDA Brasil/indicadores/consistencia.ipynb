{
 "cells": [
  {
   "cell_type": "code",
   "execution_count": 35,
   "metadata": {},
   "outputs": [],
   "source": [
    "import pandas as pd "
   ]
  },
  {
   "cell_type": "code",
   "execution_count": 36,
   "metadata": {},
   "outputs": [],
   "source": [
    "fatec_operacao = pd.read_excel(\"../dados/alterados/fatec_opr.xlsx\")\n",
    "modalidade = pd.read_excel(\"../dados/principais/STG_MDL.xlsx\")"
   ]
  },
  {
   "cell_type": "code",
   "execution_count": 37,
   "metadata": {},
   "outputs": [
    {
     "output_type": "execute_result",
     "data": {
      "text/plain": "    ID_STG_MDL COD_MDL                                       DES_MDL  \\\n0           17     E02                      ADIANTAMENTO DEPOSITANTE   \n1           13     B99                         OUTROS FINANCIAMENTOS   \n2           15     D01                             CARTAO DE CREDITO   \n3           19     G01                           TITULOS DESCONTADOS   \n4            2     A02                  EMPRESTIMO - CAPITAL DE GIRO   \n5            3     A04                  EMPRESTIMO - CREDITO PESSOAL   \n6           16     E01             CHEQUE ESPECIAL E CONTA GARANTIDA   \n7            8     B03              FINANCIAMENTO - IMOBILIARIOS SFH   \n8            7     B02      FINANCIAMENTO - IMPORTACAO  E EXPORTACAO   \n9            4     A05                     EMPRESTIMO - MICROCREDITO   \n10           9     B04                  FINANCIAMENTO - MICROCREDITO   \n11          12     B07                 FINANCIAMENTO - ARREENDAMENTO   \n12          18     F01                     AVAIS E FIANCASA HONRADOS   \n13          11     B06          FINANCIAMENTO - IMOBILIARIO (OUTROS)   \n14          14     C01                                     CONSORCIO   \n15           1     A01                       EMPRESTIMO - CONSIGNADO   \n16          10     B05  FINANCIAMENTO - AQUISICAO DE BENS (VEICULOS)   \n17           5     A99                            OUTROS EMPRESTIMOS   \n18           6     B01        FINANCIAMENTO - RURAL E AGROINDUSTRIAL   \n\n                DAT_INC_DBO  \n0   2019-12-19 13:37:34.759  \n1   2019-12-19 13:37:34.759  \n2   2019-12-19 13:37:34.759  \n3   2019-12-19 13:37:34.759  \n4   2019-12-19 13:37:34.759  \n5   2019-12-19 13:37:34.759  \n6   2019-12-19 13:37:34.759  \n7   2019-12-19 13:37:34.759  \n8   2019-12-19 13:37:34.759  \n9   2019-12-19 13:37:34.759  \n10  2019-12-19 13:37:34.759  \n11  2019-12-19 13:37:34.759  \n12  2019-12-19 13:37:34.759  \n13  2019-12-19 13:37:34.759  \n14  2019-12-19 13:37:34.759  \n15  2019-12-19 13:37:34.759  \n16  2019-12-19 13:37:34.759  \n17  2019-12-19 13:37:34.759  \n18  2019-12-19 13:37:34.759  ",
      "text/html": "<div>\n<style scoped>\n    .dataframe tbody tr th:only-of-type {\n        vertical-align: middle;\n    }\n\n    .dataframe tbody tr th {\n        vertical-align: top;\n    }\n\n    .dataframe thead th {\n        text-align: right;\n    }\n</style>\n<table border=\"1\" class=\"dataframe\">\n  <thead>\n    <tr style=\"text-align: right;\">\n      <th></th>\n      <th>ID_STG_MDL</th>\n      <th>COD_MDL</th>\n      <th>DES_MDL</th>\n      <th>DAT_INC_DBO</th>\n    </tr>\n  </thead>\n  <tbody>\n    <tr>\n      <th>0</th>\n      <td>17</td>\n      <td>E02</td>\n      <td>ADIANTAMENTO DEPOSITANTE</td>\n      <td>2019-12-19 13:37:34.759</td>\n    </tr>\n    <tr>\n      <th>1</th>\n      <td>13</td>\n      <td>B99</td>\n      <td>OUTROS FINANCIAMENTOS</td>\n      <td>2019-12-19 13:37:34.759</td>\n    </tr>\n    <tr>\n      <th>2</th>\n      <td>15</td>\n      <td>D01</td>\n      <td>CARTAO DE CREDITO</td>\n      <td>2019-12-19 13:37:34.759</td>\n    </tr>\n    <tr>\n      <th>3</th>\n      <td>19</td>\n      <td>G01</td>\n      <td>TITULOS DESCONTADOS</td>\n      <td>2019-12-19 13:37:34.759</td>\n    </tr>\n    <tr>\n      <th>4</th>\n      <td>2</td>\n      <td>A02</td>\n      <td>EMPRESTIMO - CAPITAL DE GIRO</td>\n      <td>2019-12-19 13:37:34.759</td>\n    </tr>\n    <tr>\n      <th>5</th>\n      <td>3</td>\n      <td>A04</td>\n      <td>EMPRESTIMO - CREDITO PESSOAL</td>\n      <td>2019-12-19 13:37:34.759</td>\n    </tr>\n    <tr>\n      <th>6</th>\n      <td>16</td>\n      <td>E01</td>\n      <td>CHEQUE ESPECIAL E CONTA GARANTIDA</td>\n      <td>2019-12-19 13:37:34.759</td>\n    </tr>\n    <tr>\n      <th>7</th>\n      <td>8</td>\n      <td>B03</td>\n      <td>FINANCIAMENTO - IMOBILIARIOS SFH</td>\n      <td>2019-12-19 13:37:34.759</td>\n    </tr>\n    <tr>\n      <th>8</th>\n      <td>7</td>\n      <td>B02</td>\n      <td>FINANCIAMENTO - IMPORTACAO  E EXPORTACAO</td>\n      <td>2019-12-19 13:37:34.759</td>\n    </tr>\n    <tr>\n      <th>9</th>\n      <td>4</td>\n      <td>A05</td>\n      <td>EMPRESTIMO - MICROCREDITO</td>\n      <td>2019-12-19 13:37:34.759</td>\n    </tr>\n    <tr>\n      <th>10</th>\n      <td>9</td>\n      <td>B04</td>\n      <td>FINANCIAMENTO - MICROCREDITO</td>\n      <td>2019-12-19 13:37:34.759</td>\n    </tr>\n    <tr>\n      <th>11</th>\n      <td>12</td>\n      <td>B07</td>\n      <td>FINANCIAMENTO - ARREENDAMENTO</td>\n      <td>2019-12-19 13:37:34.759</td>\n    </tr>\n    <tr>\n      <th>12</th>\n      <td>18</td>\n      <td>F01</td>\n      <td>AVAIS E FIANCASA HONRADOS</td>\n      <td>2019-12-19 13:37:34.759</td>\n    </tr>\n    <tr>\n      <th>13</th>\n      <td>11</td>\n      <td>B06</td>\n      <td>FINANCIAMENTO - IMOBILIARIO (OUTROS)</td>\n      <td>2019-12-19 13:37:34.759</td>\n    </tr>\n    <tr>\n      <th>14</th>\n      <td>14</td>\n      <td>C01</td>\n      <td>CONSORCIO</td>\n      <td>2019-12-19 13:37:34.759</td>\n    </tr>\n    <tr>\n      <th>15</th>\n      <td>1</td>\n      <td>A01</td>\n      <td>EMPRESTIMO - CONSIGNADO</td>\n      <td>2019-12-19 13:37:34.759</td>\n    </tr>\n    <tr>\n      <th>16</th>\n      <td>10</td>\n      <td>B05</td>\n      <td>FINANCIAMENTO - AQUISICAO DE BENS (VEICULOS)</td>\n      <td>2019-12-19 13:37:34.759</td>\n    </tr>\n    <tr>\n      <th>17</th>\n      <td>5</td>\n      <td>A99</td>\n      <td>OUTROS EMPRESTIMOS</td>\n      <td>2019-12-19 13:37:34.759</td>\n    </tr>\n    <tr>\n      <th>18</th>\n      <td>6</td>\n      <td>B01</td>\n      <td>FINANCIAMENTO - RURAL E AGROINDUSTRIAL</td>\n      <td>2019-12-19 13:37:34.759</td>\n    </tr>\n  </tbody>\n</table>\n</div>"
     },
     "metadata": {},
     "execution_count": 37
    }
   ],
   "source": [
    "modalidade"
   ]
  },
  {
   "cell_type": "code",
   "execution_count": 38,
   "metadata": {},
   "outputs": [
    {
     "output_type": "execute_result",
     "data": {
      "text/plain": "        id_opr_cad_pos       doc_cli    tip_cli    qtd_pcl    dat_vct_ult_pcl  \\\n0      0f503289-dfb      87308050371   F          52         20112023           \n1      683ea107-f2e      54355614187   F          36         06112022           \n2      d8e48899-58d      92265948819   F          NULL       NULL               \n3      5909262c-526     104455393515   F          82         20112019           \n4      a2baadcc-95a       8642684152   F          65         15042020           \n...                ...           ...        ...        ...                ...   \n2995   11bd0eb8-546     213603194469   F          NULL       NULL               \n2996   38634b0a-897     252169585344   F          60         25112018           \n2997   cebe727e-8b5     247391528715   F          84         10092026           \n2998   e6965bba-e4a     249677066973   F          47         10122021           \n2999   a5d43fa5-536     258481778859   F          36         30042021           \n\n        vlr_ctrd_fta_tfm    sdo_ddr_tfm       vlr_ctrd  \\\n0      NULL                259741.1685    28511582.7     \n1      140141.5236         NULL           NULL           \n2      NULL                0.0000         NULL           \n3      NULL                1520.5905      27626512.71    \n4      NULL                8093.7615      26287450.65    \n...                  ...            ...            ...   \n2995   NULL                2115.0240      NULL           \n2996   145296.1440         NULL           NULL           \n2997   NULL                187834.5642    20333074.29    \n2998   NULL                48979.6941     30874638.3     \n2999   74816.1801          NULL           NULL           \n\n                              id_ult_rss_opr  id_mdl    cod_mdl  id_fnt  \n0      25e351cc-ec4e-4a47-861e-834f2aa1dc13       14   C01          422  \n1      a1f18524-8a4f-40a5-ba31-6fbff83bfd58       10   B05          422  \n2      63149b03-b3bd-41e3-9b33-86661155bbaf       15   D01          422  \n3      40367466-b381-4452-add6-641eafb6b1be       14   C01          422  \n4      3e99353c-df9a-4164-831d-84fff45cefdf       14   C01          422  \n...                                      ...     ...        ...     ...  \n2995   e6c5bd30-c23a-4134-b733-c3546e9981bb       15   D01           14  \n2996   2274cb1f-602b-4761-bea5-2ef420154a90       10   B05           14  \n2997   5da63c6a-28be-48e4-8a4a-f71bce8a4a53       14   C01           14  \n2998   adbd7ce7-c890-4f12-a581-7c64db1af242       14   C01           14  \n2999   8340c27b-499e-4147-9d29-7268db9bd3bc       10   B05           14  \n\n[3000 rows x 12 columns]",
      "text/html": "<div>\n<style scoped>\n    .dataframe tbody tr th:only-of-type {\n        vertical-align: middle;\n    }\n\n    .dataframe tbody tr th {\n        vertical-align: top;\n    }\n\n    .dataframe thead th {\n        text-align: right;\n    }\n</style>\n<table border=\"1\" class=\"dataframe\">\n  <thead>\n    <tr style=\"text-align: right;\">\n      <th></th>\n      <th>id_opr_cad_pos</th>\n      <th>doc_cli</th>\n      <th>tip_cli</th>\n      <th>qtd_pcl</th>\n      <th>dat_vct_ult_pcl</th>\n      <th>vlr_ctrd_fta_tfm</th>\n      <th>sdo_ddr_tfm</th>\n      <th>vlr_ctrd</th>\n      <th>id_ult_rss_opr</th>\n      <th>id_mdl</th>\n      <th>cod_mdl</th>\n      <th>id_fnt</th>\n    </tr>\n  </thead>\n  <tbody>\n    <tr>\n      <th>0</th>\n      <td>0f503289-dfb</td>\n      <td>87308050371</td>\n      <td>F</td>\n      <td>52</td>\n      <td>20112023</td>\n      <td>NULL</td>\n      <td>259741.1685</td>\n      <td>28511582.7</td>\n      <td>25e351cc-ec4e-4a47-861e-834f2aa1dc13</td>\n      <td>14</td>\n      <td>C01</td>\n      <td>422</td>\n    </tr>\n    <tr>\n      <th>1</th>\n      <td>683ea107-f2e</td>\n      <td>54355614187</td>\n      <td>F</td>\n      <td>36</td>\n      <td>06112022</td>\n      <td>140141.5236</td>\n      <td>NULL</td>\n      <td>NULL</td>\n      <td>a1f18524-8a4f-40a5-ba31-6fbff83bfd58</td>\n      <td>10</td>\n      <td>B05</td>\n      <td>422</td>\n    </tr>\n    <tr>\n      <th>2</th>\n      <td>d8e48899-58d</td>\n      <td>92265948819</td>\n      <td>F</td>\n      <td>NULL</td>\n      <td>NULL</td>\n      <td>NULL</td>\n      <td>0.0000</td>\n      <td>NULL</td>\n      <td>63149b03-b3bd-41e3-9b33-86661155bbaf</td>\n      <td>15</td>\n      <td>D01</td>\n      <td>422</td>\n    </tr>\n    <tr>\n      <th>3</th>\n      <td>5909262c-526</td>\n      <td>104455393515</td>\n      <td>F</td>\n      <td>82</td>\n      <td>20112019</td>\n      <td>NULL</td>\n      <td>1520.5905</td>\n      <td>27626512.71</td>\n      <td>40367466-b381-4452-add6-641eafb6b1be</td>\n      <td>14</td>\n      <td>C01</td>\n      <td>422</td>\n    </tr>\n    <tr>\n      <th>4</th>\n      <td>a2baadcc-95a</td>\n      <td>8642684152</td>\n      <td>F</td>\n      <td>65</td>\n      <td>15042020</td>\n      <td>NULL</td>\n      <td>8093.7615</td>\n      <td>26287450.65</td>\n      <td>3e99353c-df9a-4164-831d-84fff45cefdf</td>\n      <td>14</td>\n      <td>C01</td>\n      <td>422</td>\n    </tr>\n    <tr>\n      <th>...</th>\n      <td>...</td>\n      <td>...</td>\n      <td>...</td>\n      <td>...</td>\n      <td>...</td>\n      <td>...</td>\n      <td>...</td>\n      <td>...</td>\n      <td>...</td>\n      <td>...</td>\n      <td>...</td>\n      <td>...</td>\n    </tr>\n    <tr>\n      <th>2995</th>\n      <td>11bd0eb8-546</td>\n      <td>213603194469</td>\n      <td>F</td>\n      <td>NULL</td>\n      <td>NULL</td>\n      <td>NULL</td>\n      <td>2115.0240</td>\n      <td>NULL</td>\n      <td>e6c5bd30-c23a-4134-b733-c3546e9981bb</td>\n      <td>15</td>\n      <td>D01</td>\n      <td>14</td>\n    </tr>\n    <tr>\n      <th>2996</th>\n      <td>38634b0a-897</td>\n      <td>252169585344</td>\n      <td>F</td>\n      <td>60</td>\n      <td>25112018</td>\n      <td>145296.1440</td>\n      <td>NULL</td>\n      <td>NULL</td>\n      <td>2274cb1f-602b-4761-bea5-2ef420154a90</td>\n      <td>10</td>\n      <td>B05</td>\n      <td>14</td>\n    </tr>\n    <tr>\n      <th>2997</th>\n      <td>cebe727e-8b5</td>\n      <td>247391528715</td>\n      <td>F</td>\n      <td>84</td>\n      <td>10092026</td>\n      <td>NULL</td>\n      <td>187834.5642</td>\n      <td>20333074.29</td>\n      <td>5da63c6a-28be-48e4-8a4a-f71bce8a4a53</td>\n      <td>14</td>\n      <td>C01</td>\n      <td>14</td>\n    </tr>\n    <tr>\n      <th>2998</th>\n      <td>e6965bba-e4a</td>\n      <td>249677066973</td>\n      <td>F</td>\n      <td>47</td>\n      <td>10122021</td>\n      <td>NULL</td>\n      <td>48979.6941</td>\n      <td>30874638.3</td>\n      <td>adbd7ce7-c890-4f12-a581-7c64db1af242</td>\n      <td>14</td>\n      <td>C01</td>\n      <td>14</td>\n    </tr>\n    <tr>\n      <th>2999</th>\n      <td>a5d43fa5-536</td>\n      <td>258481778859</td>\n      <td>F</td>\n      <td>36</td>\n      <td>30042021</td>\n      <td>74816.1801</td>\n      <td>NULL</td>\n      <td>NULL</td>\n      <td>8340c27b-499e-4147-9d29-7268db9bd3bc</td>\n      <td>10</td>\n      <td>B05</td>\n      <td>14</td>\n    </tr>\n  </tbody>\n</table>\n<p>3000 rows × 12 columns</p>\n</div>"
     },
     "metadata": {},
     "execution_count": 38
    }
   ],
   "source": [
    "operacao"
   ]
  },
  {
   "cell_type": "code",
   "execution_count": 39,
   "metadata": {},
   "outputs": [],
   "source": [
    "lista_modalidade = list(modalidade[\"COD_MDL\"])"
   ]
  },
  {
   "cell_type": "code",
   "execution_count": 40,
   "metadata": {},
   "outputs": [
    {
     "output_type": "execute_result",
     "data": {
      "text/plain": "['E02',\n 'B99',\n 'D01',\n 'G01',\n 'A02',\n 'A04',\n 'E01',\n 'B03',\n 'B02',\n 'A05',\n 'B04',\n 'B07',\n 'F01',\n 'B06',\n 'C01',\n 'A01',\n 'B05',\n 'A99',\n 'B01']"
     },
     "metadata": {},
     "execution_count": 40
    }
   ],
   "source": [
    "lista_modalidade"
   ]
  },
  {
   "cell_type": "code",
   "execution_count": 59,
   "metadata": {},
   "outputs": [],
   "source": [
    "def consistencia_opr(fonte):\n",
    "    campos_inconsistentes = fatec_operacao.query(f\"cod_mdl not in {lista_modalidade}\")['cod_mdl'].count()\n",
    "    return 100 - ((campos_inconsistentes / fatec_operacao.shape[0]) * 100)\n",
    "\n",
    "\n",
    "def consistencia_modalidade_operacao():\n",
    "    indice_fontes = set(list(int(float(str(i).strip())) for i in list(fatec_operacao['id_fnt'])))\n",
    "    matriz_consistencia = list()\n",
    "    for fonte in indice_fontes:\n",
    "        porcentagem = consistencia_opr(fonte)\n",
    "        matriz_consistencia.append([porcentagem, fonte])\n",
    "    matriz_consistencia.sort(reverse=True)\n",
    "    return matriz_consistencia"
   ]
  },
  {
   "cell_type": "code",
   "execution_count": 60,
   "metadata": {
    "tags": []
   },
   "outputs": [
    {
     "output_type": "execute_result",
     "data": {
      "text/plain": "[[0.0, 822], [0.0, 583], [0.0, 422], [0.0, 291], [0.0, 109], [0.0, 14]]"
     },
     "metadata": {},
     "execution_count": 60
    }
   ],
   "source": [
    "consistencia_modalidade_operacao()"
   ]
  }
 ],
 "metadata": {
  "language_info": {
   "codemirror_mode": {
    "name": "ipython",
    "version": 3
   },
   "file_extension": ".py",
   "mimetype": "text/x-python",
   "name": "python",
   "nbconvert_exporter": "python",
   "pygments_lexer": "ipython3",
   "version": 3
  },
  "orig_nbformat": 2,
  "kernelspec": {
   "name": "python_defaultSpec_1593361123786",
   "display_name": "Python 3.8.3 64-bit"
  }
 },
 "nbformat": 4,
 "nbformat_minor": 2
}