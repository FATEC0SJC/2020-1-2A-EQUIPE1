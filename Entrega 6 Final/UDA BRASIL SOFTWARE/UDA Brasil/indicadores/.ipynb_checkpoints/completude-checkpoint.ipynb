{
 "cells": [
  {
   "cell_type": "code",
   "execution_count": 1,
   "metadata": {},
   "outputs": [],
   "source": [
    "import pandas as pd"
   ]
  },
  {
   "cell_type": "code",
   "execution_count": 2,
   "metadata": {},
   "outputs": [],
   "source": [
    "# Importando os Dados\n",
    "\n",
    "pessoa_fisica = pd.read_csv(\"../dados/Complementares/fatec_pessoa_fisica.csv\", sep = '|', encoding='UTF-8', header = 1)\n",
    "endereco_pessoa_fisica = pd.read_csv(\"../dados/Complementares/fatec_endereco_pessoa_fisica.csv\", sep = '|', encoding='UTF-8', header = 1)\n",
    "fatec_operacao = pd.read_csv(\"../dados/Complementares/fatec_opr.csv\", sep = '|', encoding='UTF-8', header = 1)\n",
    "fatec_movimento = pd.read_csv(\"../dados/Complementares/fatec_mvt.csv\", sep = '|', encoding='UTF-8', header = 1)\n",
    "fatec_pagamento = pd.read_csv(\"../dados/Complementares/fatec_pgt.csv\", sep = '|', encoding='UTF-8', header = 1)"
   ]
  },
  {
   "cell_type": "code",
   "execution_count": 3,
   "metadata": {},
   "outputs": [],
   "source": [
    "# Dados Completares\n",
    "\n",
    "# Retirando as colunas desnecessárias\n",
    "pessoa_fisica_colunas = pessoa_fisica.columns[1:len(pessoa_fisica.columns) - 1]\n",
    "endereco_pessoa_fisica_colunas = endereco_pessoa_fisica.columns[1:len(endereco_pessoa_fisica.columns) - 1]\n",
    "fatec_operacao_colunas = fatec_operacao.columns[1:len(fatec_operacao.columns) - 1]\n",
    "fatec_movimento_colunas = fatec_movimento.columns[1:len(fatec_movimento.columns) - 1]\n",
    "fatec_pagamento_colunas = fatec_pagamento.columns[1:len(fatec_pagamento.columns) - 1]\n",
    "\n",
    "# Armazenando o nome de uma coluna de cada tabela numa váriavel\n",
    "coluna_pessoa_fisica = pessoa_fisica.columns[1]\n",
    "coluna_endereco_pessoa_fisica = endereco_pessoa_fisica.columns[1]\n",
    "coluna_fatec_operacao = fatec_operacao.columns[1]\n",
    "coluna_fatec_movimento = fatec_movimento.columns[1]\n",
    "coluna_fatec_pagamento = fatec_pagamento.columns[1]\n",
    "\n",
    "# Redefinindo os DataFrames\n",
    "pessoa_fisica = pd.DataFrame(pessoa_fisica, columns = pessoa_fisica_colunas)\n",
    "endereco_pessoa_fisica = pd.DataFrame(endereco_pessoa_fisica, columns = endereco_pessoa_fisica_colunas)\n",
    "fatec_operacao = pd.DataFrame(fatec_operacao, columns = fatec_operacao_colunas)\n",
    "fatec_movimento = pd.DataFrame(fatec_movimento, columns = fatec_movimento_colunas)\n",
    "fatec_pagamento = pd.DataFrame(fatec_pagamento, columns = fatec_pagamento_colunas)\n",
    "\n",
    "# Redefinindo o nome de cada coluna\n",
    "pessoa_fisica.columns = ['id', 'cpf', 'idc_sexo', 'ano_dat_nascimento']\n",
    "endereco_pessoa_fisica.columns = ['id_pessoa_fisica', 'nom_cidade', 'des_estado']\n",
    "fatec_operacao.columns = ['id_opr_cad_pos', 'doc_cli', 'tip_cli', 'qtd_pcl', 'dat_vct_ult_pcl', 'vlr_ctrd_fta_tfm', 'sdo_ddr_tfm', 'vlr_ctrd', 'id_ult_rss_opr', 'id_mdl', 'cod_mdl', 'id_fnt']\n",
    "fatec_movimento.columns = ['id_opr_cad_pos', 'id_mvt_cad_pos', 'dat_vct', 'qtd_pcl_vnc', 'qtd_pcl_pgr', 'vlr_tot_fat_tfm',\t'vlr_min_fat_tfm', 'vlr_pcl_tfm', 'tip_mvt', 'prd']\n",
    "fatec_pagamento.columns = ['id_opr_cad_pos', 'id_mvt_cad_pos', 'id_pgt_cad_pos', 'dat_pgt', 'dat_vct_tfm', 'vlr_pgt_tfm', 'cod_mdl', 'cmd']"
   ]
  },
  {
   "cell_type": "code",
   "execution_count": 4,
   "metadata": {},
   "outputs": [],
   "source": [
    "# Retirando os valores nulos entre as quebras de página:\n",
    "pessoa_fisica = pessoa_fisica[(pd.isna(pessoa_fisica['cpf']) != True)]\n",
    "endereco_pessoa_fisica = endereco_pessoa_fisica[(pd.isna(endereco_pessoa_fisica['id_pessoa_fisica']) != True)]\n",
    "fatec_operacao = fatec_operacao[(pd.isna(fatec_operacao['id_opr_cad_pos']) != True)]\n",
    "fatec_movimento = fatec_movimento[(pd.isna(fatec_movimento['id_opr_cad_pos']) != True)]\n",
    "fatec_pagamento = fatec_pagamento[(pd.isna(fatec_pagamento['id_opr_cad_pos']) != True)]\n",
    "\n",
    "# Usando a váriavel anterior para retirar as quebrar de página:\n",
    "pessoa_fisica = pessoa_fisica[(pessoa_fisica['id'] != coluna_pessoa_fisica)]\n",
    "endereco_pessoa_fisica = endereco_pessoa_fisica[(endereco_pessoa_fisica['id_pessoa_fisica'] != coluna_endereco_pessoa_fisica)]\n",
    "fatec_operacao = fatec_operacao[(fatec_operacao['id_opr_cad_pos'] != coluna_fatec_operacao)]\n",
    "fatec_movimento = fatec_movimento[(fatec_movimento['id_opr_cad_pos'] != coluna_fatec_movimento)]\n",
    "fatec_pagamento = fatec_pagamento[(fatec_pagamento['id_opr_cad_pos'] != coluna_fatec_pagamento)]"
   ]
  },
  {
   "cell_type": "code",
   "execution_count": null,
   "metadata": {},
   "outputs": [],
   "source": []
  }
 ],
 "metadata": {
  "language_info": {
   "codemirror_mode": {
    "name": "ipython",
    "version": 3
   },
   "file_extension": ".py",
   "mimetype": "text/x-python",
   "name": "python",
   "nbconvert_exporter": "python",
   "pygments_lexer": "ipython3",
   "version": 3
  },
  "orig_nbformat": 2,
  "kernelspec": {
   "name": "python_defaultSpec_1593359645598",
   "display_name": "Python 3.7.5 64-bit"
  }
 },
 "nbformat": 4,
 "nbformat_minor": 2
}